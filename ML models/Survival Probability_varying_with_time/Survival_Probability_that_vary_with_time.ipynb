{
  "nbformat": 4,
  "nbformat_minor": 0,
  "metadata": {
    "colab": {
      "name": "Survival_Probability_that_vary_with_time.ipynb",
      "provenance": [],
      "collapsed_sections": []
    },
    "kernelspec": {
      "name": "python3",
      "display_name": "Python 3"
    }
  },
  "cells": [
    {
      "cell_type": "code",
      "metadata": {
        "id": "dbWQAWDtx0Mw"
      },
      "source": [
        "import lifelines\r\n",
        "import pandas as pd\r\n",
        "import numpy as np\r\n",
        "import matplotlib.pyplot as plt\r\n",
        "from lifelines import KaplanMeierFitter as KM\r\n",
        "from lifelines.statistics import logrank_test\r\n",
        "\r\n",
        "data = load_data()"
      ],
      "execution_count": 2,
      "outputs": []
    },
    {
      "cell_type": "markdown",
      "metadata": {
        "id": "w-BNU8vk4MTm"
      },
      "source": [
        "**Understanding the Data**\r\n",
        "\r\n",
        "**Stage_group**: (1: Stage III Lymphoma Cancer, 2: Stage IV Lymphoma Cancer)\r\n",
        "\r\n",
        "---\r\n",
        "\r\n",
        "\r\n",
        "**Time**: Observation time before death(In Months)\r\n",
        "\r\n",
        "---\r\n",
        "\r\n",
        "\r\n",
        "\r\n",
        "\r\n",
        "\r\n",
        "**Event**: (0: Patient didn't die during observation period, 1: Patient died)"
      ]
    },
    {
      "cell_type": "code",
      "metadata": {
        "colab": {
          "base_uri": "https://localhost:8080/",
          "height": 195
        },
        "id": "RkUt1TT605Md",
        "outputId": "5596f1b4-5a1f-4e8d-e5dc-bbec86dd5f5e"
      },
      "source": [
        "data.head()"
      ],
      "execution_count": 15,
      "outputs": [
        {
          "output_type": "execute_result",
          "data": {
            "text/html": [
              "<div>\n",
              "<style scoped>\n",
              "    .dataframe tbody tr th:only-of-type {\n",
              "        vertical-align: middle;\n",
              "    }\n",
              "\n",
              "    .dataframe tbody tr th {\n",
              "        vertical-align: top;\n",
              "    }\n",
              "\n",
              "    .dataframe thead th {\n",
              "        text-align: right;\n",
              "    }\n",
              "</style>\n",
              "<table border=\"1\" class=\"dataframe\">\n",
              "  <thead>\n",
              "    <tr style=\"text-align: right;\">\n",
              "      <th></th>\n",
              "      <th>Stage_group</th>\n",
              "      <th>Time</th>\n",
              "      <th>Event</th>\n",
              "    </tr>\n",
              "  </thead>\n",
              "  <tbody>\n",
              "    <tr>\n",
              "      <th>0</th>\n",
              "      <td>1</td>\n",
              "      <td>6</td>\n",
              "      <td>1</td>\n",
              "    </tr>\n",
              "    <tr>\n",
              "      <th>1</th>\n",
              "      <td>1</td>\n",
              "      <td>19</td>\n",
              "      <td>1</td>\n",
              "    </tr>\n",
              "    <tr>\n",
              "      <th>2</th>\n",
              "      <td>1</td>\n",
              "      <td>32</td>\n",
              "      <td>1</td>\n",
              "    </tr>\n",
              "    <tr>\n",
              "      <th>3</th>\n",
              "      <td>1</td>\n",
              "      <td>42</td>\n",
              "      <td>1</td>\n",
              "    </tr>\n",
              "    <tr>\n",
              "      <th>4</th>\n",
              "      <td>1</td>\n",
              "      <td>42</td>\n",
              "      <td>1</td>\n",
              "    </tr>\n",
              "  </tbody>\n",
              "</table>\n",
              "</div>"
            ],
            "text/plain": [
              "   Stage_group  Time  Event\n",
              "0            1     6      1\n",
              "1            1    19      1\n",
              "2            1    32      1\n",
              "3            1    42      1\n",
              "4            1    42      1"
            ]
          },
          "metadata": {
            "tags": []
          },
          "execution_count": 15
        }
      ]
    },
    {
      "cell_type": "code",
      "metadata": {
        "colab": {
          "base_uri": "https://localhost:8080/",
          "height": 333
        },
        "id": "gdTZSmnDyBE9",
        "outputId": "26a6c354-43ac-4cee-aa28-eeb49fa39288"
      },
      "source": [
        "print(data.shape)\r\n",
        "print(data['Stage_group'].unique())\r\n",
        "data.Time.hist()\r\n",
        "plt.xlabel('observation time before death in months')\r\n",
        "plt.ylabel('Number of patients')"
      ],
      "execution_count": 14,
      "outputs": [
        {
          "output_type": "stream",
          "text": [
            "(80, 3)\n",
            "[1 2]\n"
          ],
          "name": "stdout"
        },
        {
          "output_type": "execute_result",
          "data": {
            "text/plain": [
              "Text(0, 0.5, 'Number of patients')"
            ]
          },
          "metadata": {
            "tags": []
          },
          "execution_count": 14
        },
        {
          "output_type": "display_data",
          "data": {
            "image/png": "[encoded data removed]",
            "text/plain": [
              "<Figure size 432x288 with 1 Axes>"
            ]
          },
          "metadata": {
            "tags": [],
            "needs_background": "light"
          }
        }
      ]
    },
    {
      "cell_type": "markdown",
      "metadata": {
        "id": "LPhLofaI6aKA"
      },
      "source": [
        "Survival function:\r\n",
        "\r\n",
        "$$\r\n",
        "S(t) = P(T > t)\r\n",
        "$$\r\n",
        "\r\n",
        "To illustrate the strengths of Kaplan Meier, we'll start with a naive estimator of the above survival function. To estimate this quantity, we'll divide the number of people who we know lived past time $t$ by the number of people who were not censored before $t$.\r\n",
        "\r\n",
        "Formally, let $i$ = 1, ..., $n$ be the cases, and let $t_i$ be the time when $i$ was censored or an event happened. Let $e_i= 1$ if an event was observed for $i$ and 0 otherwise. Then let $X_t = \\{i : T_i > t\\}$, and let $M_t = \\{i : e_i = 1 \\text{ or } T_i > t\\}$. The estimator:\r\n",
        "\r\n",
        "$$\r\n",
        "\\hat{S}(t) = \\frac{|X_t|}{|M_t|}\r\n",
        "$$"
      ]
    },
    {
      "cell_type": "code",
      "metadata": {
        "colab": {
          "base_uri": "https://localhost:8080/",
          "height": 295
        },
        "id": "p6qMY1Cry1vV",
        "outputId": "5a3958d4-cfe4-400b-b3ed-9b36c9823276"
      },
      "source": [
        "def naive_estimator(t, df):\r\n",
        "    \r\n",
        "    s_t = 0.0\r\n",
        "    X_t = len(df[df['Time'] > t])\r\n",
        "    M_t = len(df[(df['Time'] > t) | df['Event'] == 1])\r\n",
        "    S_t = X_t / M_t\r\n",
        "    \r\n",
        "    return S_t\r\n",
        "\r\n",
        "max_time = data.Time.max()\r\n",
        "x = range(0, max_time+1)\r\n",
        "y = np.zeros(len(x))\r\n",
        "\r\n",
        "for i,t in enumerate(x):\r\n",
        "    y[i] = naive_estimator(t, data)\r\n",
        "    \r\n",
        "plt.plot(x, y)\r\n",
        "plt.title('Naive Survival Estimator')\r\n",
        "plt.xlabel('Time')\r\n",
        "plt.ylabel('Estimated Cumulated Survival Rate[In Months]')\r\n",
        "plt.show()"
      ],
      "execution_count": 5,
      "outputs": [
        {
          "output_type": "display_data",
          "data": {
            "image/png": "[encoded data removed]",
            "text/plain": [
              "<Figure size 432x288 with 1 Axes>"
            ]
          },
          "metadata": {
            "tags": [],
            "needs_background": "light"
          }
        }
      ]
    },
    {
      "cell_type": "markdown",
      "metadata": {
        "id": "lS33Y2xH6m7I"
      },
      "source": [
        "Next let's compare this with the Kaplan Meier estimate. \r\n",
        "\r\n",
        "The Kaplan-Meier estimate:\r\n",
        "\r\n",
        "$$\r\n",
        "S(t) = \\prod_{t_i \\leq t} (1 - \\frac{d_i}{n_i})\r\n",
        "$$\r\n",
        "\r\n",
        "where $t_i$ are the events observed in the dataset and $d_i$ is the number of deaths at time $t_i$ and $n_i$ is the number of people who we know have survived up to time $t_i$."
      ]
    },
    {
      "cell_type": "code",
      "metadata": {
        "colab": {
          "base_uri": "https://localhost:8080/",
          "height": 296
        },
        "id": "V_b9dyb8y8AG",
        "outputId": "0908cefd-c7a9-4bf7-f1e3-52562f095e04"
      },
      "source": [
        "S1 = data[data.Stage_group == 1]\r\n",
        "km1 = KM()\r\n",
        "km1.fit(S1.loc[:, 'Time'], event_observed = S1.loc[: , 'Event'], label = 'Stage III Lymphoma Cancer')\r\n",
        "\r\n",
        "S2 = data[data.Stage_group == 2]\r\n",
        "km2 = KM()\r\n",
        "km2.fit(S2.loc[:, 'Time'], event_observed = S2.loc[: , 'Event'], label = 'Stage IV Lymphoma Cancer') \r\n",
        "\r\n",
        "ax = km1.plot(ci_show =False) \r\n",
        "km2.plot(ax = ax, ci_show = False)\r\n",
        "plt.xlabel('Time (In months)')\r\n",
        "plt.ylabel('Survival probability Estimate')"
      ],
      "execution_count": 6,
      "outputs": [
        {
          "output_type": "execute_result",
          "data": {
            "text/plain": [
              "Text(0, 0.5, 'Survival probability Estimate')"
            ]
          },
          "metadata": {
            "tags": []
          },
          "execution_count": 6
        },
        {
          "output_type": "display_data",
          "data": {
            "image/png": "[encoded data removed]",
            "text/plain": [
              "<Figure size 432x288 with 1 Axes>"
            ]
          },
          "metadata": {
            "tags": [],
            "needs_background": "light"
          }
        }
      ]
    },
    {
      "cell_type": "code",
      "metadata": {
        "colab": {
          "base_uri": "https://localhost:8080/",
          "height": 216
        },
        "id": "p-f6rWilzMrO",
        "outputId": "64bfc41f-bd08-422d-92ac-ea7d47023f68"
      },
      "source": [
        "survivals = pd.DataFrame([24,60,120,240], columns = ['time'])\r\n",
        "survivals.loc[:, 'Group 1(Stage III)'] = km1.survival_function_at_times(survivals['time']).values\r\n",
        "survivals.loc[:, \"Group 2(Stage IV)\"] = km2.survival_function_at_times(survivals['time']).values\r\n",
        "print('Survival Probabilities:')\r\n",
        "print('\\n')\r\n",
        "survivals"
      ],
      "execution_count": 17,
      "outputs": [
        {
          "output_type": "stream",
          "text": [
            "Survival Probabilities:\n",
            "\n",
            "\n"
          ],
          "name": "stdout"
        },
        {
          "output_type": "execute_result",
          "data": {
            "text/html": [
              "<div>\n",
              "<style scoped>\n",
              "    .dataframe tbody tr th:only-of-type {\n",
              "        vertical-align: middle;\n",
              "    }\n",
              "\n",
              "    .dataframe tbody tr th {\n",
              "        vertical-align: top;\n",
              "    }\n",
              "\n",
              "    .dataframe thead th {\n",
              "        text-align: right;\n",
              "    }\n",
              "</style>\n",
              "<table border=\"1\" class=\"dataframe\">\n",
              "  <thead>\n",
              "    <tr style=\"text-align: right;\">\n",
              "      <th></th>\n",
              "      <th>time</th>\n",
              "      <th>Group 1(Stage III)</th>\n",
              "      <th>Group 2(Stage IV)</th>\n",
              "    </tr>\n",
              "  </thead>\n",
              "  <tbody>\n",
              "    <tr>\n",
              "      <th>0</th>\n",
              "      <td>24</td>\n",
              "      <td>0.894737</td>\n",
              "      <td>0.770492</td>\n",
              "    </tr>\n",
              "    <tr>\n",
              "      <th>1</th>\n",
              "      <td>60</td>\n",
              "      <td>0.736842</td>\n",
              "      <td>0.553734</td>\n",
              "    </tr>\n",
              "    <tr>\n",
              "      <th>2</th>\n",
              "      <td>120</td>\n",
              "      <td>0.680162</td>\n",
              "      <td>0.369156</td>\n",
              "    </tr>\n",
              "    <tr>\n",
              "      <th>3</th>\n",
              "      <td>240</td>\n",
              "      <td>0.612146</td>\n",
              "      <td>0.195436</td>\n",
              "    </tr>\n",
              "  </tbody>\n",
              "</table>\n",
              "</div>"
            ],
            "text/plain": [
              "   time  Group 1(Stage III)  Group 2(Stage IV)\n",
              "0    24            0.894737           0.770492\n",
              "1    60            0.736842           0.553734\n",
              "2   120            0.680162           0.369156\n",
              "3   240            0.612146           0.195436"
            ]
          },
          "metadata": {
            "tags": []
          },
          "execution_count": 17
        }
      ]
    },
    {
      "cell_type": "markdown",
      "metadata": {
        "id": "da2v9hUCzqVX"
      },
      "source": [
        "Above table illustrates **survival probabilities** of patients suffering from Stage III and stage IV 'Lymphoma Cancer' at given time in future (i.e. 24, 60, 120, 240 months)\r\n",
        "\r\n",
        "This can help the Insurance companies to recommend a particular policy plan."
      ]
    }
  ]
}